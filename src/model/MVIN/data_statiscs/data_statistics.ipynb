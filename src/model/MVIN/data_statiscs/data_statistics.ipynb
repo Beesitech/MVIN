{
 "cells": [
  {
   "cell_type": "code",
   "execution_count": 2,
   "metadata": {},
   "outputs": [],
   "source": [
    "import numpy as np\n",
    "import collections\n",
    "import os\n",
    "import sys\n",
    "import pickle\n",
    "import random\n",
    "import csv\n",
    "import pandas as pd\n",
    "from collections import defaultdict\n",
    "from collections import Counter \n",
    "import time\n",
    "import multiprocessing\n",
    "import itertools\n",
    "from multiprocessing import Pool, cpu_count\n",
    "import multiprocessing as mp\n",
    "from functools import partial\n"
   ]
  },
  {
   "cell_type": "code",
   "execution_count": null,
   "metadata": {},
   "outputs": [],
   "source": [
    "# relation_dict = {}\n",
    "# total_entity = 0\n",
    "# for k, v in kg.items():\n",
    "# #     print(k, v)\n",
    "#     for pair in v:\n",
    "#         if pair[1] not in relation_dict: relation_dict[pair[1]] = 0\n",
    "#         relation_dict[pair[1]] += 1\n",
    "#     total_entity += 1\n",
    "\n",
    "# print(relation_dict)\n",
    "# print('total_entity = ', total_entity, len(kg))\n",
    "# for k, v in relation_dict.items():\n",
    "#     print('relation = ', k, 'value = ', v/total_entity)"
   ]
  },
  {
   "cell_type": "code",
   "execution_count": 3,
   "metadata": {},
   "outputs": [],
   "source": [
    "def construct_kg(kg_np):\n",
    "    print('constructing knowledge graph ...')\n",
    "    kg = dict()\n",
    "    enti = 0\n",
    "    rela = 0\n",
    "    for triple in kg_np:\n",
    "        head = triple[0]\n",
    "        relation = triple[1]\n",
    "        tail = triple[2]\n",
    "        # treat the KG as an undirected graph\n",
    "        if head not in kg:\n",
    "            kg[head] = []\n",
    "        kg[head].append((tail, relation))\n",
    "        if tail not in kg:\n",
    "            kg[tail] = []\n",
    "        kg[tail].append((head, relation))\n",
    "        enti = max(enti, head, tail)\n",
    "        rela = max(rela, relation)\n",
    "    return kg, enti, rela"
   ]
  },
  {
   "cell_type": "code",
   "execution_count": 21,
   "metadata": {},
   "outputs": [],
   "source": [
    "def show_kg_info(dataset):\n",
    "    data_path = f'../../../../../data/{dataset}/'\n",
    "    kg_file = data_path + 'kg_final'\n",
    "    if os.path.exists(kg_file + '.npy'):\n",
    "        kg_np = np.load(kg_file + '.npy')\n",
    "    else:\n",
    "        kg_np = np.loadtxt(kg_file + '.txt', dtype=np.int64)\n",
    "\n",
    "    n_entity = len(set(kg_np[:, 0]) | set(kg_np[:, 2]))\n",
    "    n_relation = len(set(kg_np[:, 1]))\n",
    "\n",
    "    rating_file = data_path + 'ratings_final'\n",
    "    if os.path.exists(rating_file + '.npy'):\n",
    "        ratings_final = np.load(rating_file + '.npy')\n",
    "    else:\n",
    "        ratings_final = np.loadtxt(rating_file + '.txt', dtype=np.int64)\n",
    "\n",
    "    kg, enti, rela = construct_kg(kg_np)\n",
    "    \n",
    "    \n",
    "    relation_dict = {}\n",
    "    total_entity = 0\n",
    "    entity_neighbor = 0\n",
    "    entity_neighbor_20 = 0\n",
    "    for k, v in kg.items():\n",
    "    #     print(k, v)\n",
    "        entity_neighbor += len(v)\n",
    "        if len(v) >= 20:\n",
    "            entity_neighbor_20 += 1\n",
    "        for pair in v:\n",
    "            if pair[1] not in relation_dict: relation_dict[pair[1]] = 0\n",
    "            relation_dict[pair[1]] += 1\n",
    "        total_entity += 1\n",
    "    \n",
    "    print(relation_dict)\n",
    "    print('total_entity = ', total_entity, 'entity_neighbor = ', entity_neighbor, entity_neighbor/total_entity, 'entity_neighbor_20 = ', entity_neighbor_20/total_entity)\n",
    "    for k, v in relation_dict.items():\n",
    "        print('relation = ', k, 'value = ', v/total_entity)"
   ]
  },
  {
   "cell_type": "code",
   "execution_count": 22,
   "metadata": {},
   "outputs": [
    {
     "name": "stdout",
     "output_type": "stream",
     "text": [
      "constructing knowledge graph ...\n",
      "{0: 133416, 4: 64794, 1: 542058, 3: 35428, 2: 135780, 5: 6862, 6: 1030, 7: 6766, 8: 3000}\n",
      "total_entity =  106389 entity_neighbor =  929134 8.7333652915245 entity_neighbor_20 =  0.024908590173796163\n",
      "relation =  0 value =  1.2540394213687505\n",
      "relation =  4 value =  0.6090291289513013\n",
      "relation =  1 value =  5.095056819784\n",
      "relation =  3 value =  0.33300435195367944\n",
      "relation =  2 value =  1.2762597636973747\n",
      "relation =  5 value =  0.06449914934814689\n",
      "relation =  6 value =  0.009681452029815112\n",
      "relation =  7 value =  0.06359680042109617\n",
      "relation =  8 value =  0.028198403970335278\n"
     ]
    }
   ],
   "source": [
    "dataset=\"last-fm_50core\"\n",
    "show_kg_info(dataset)"
   ]
  },
  {
   "cell_type": "code",
   "execution_count": 23,
   "metadata": {},
   "outputs": [
    {
     "name": "stdout",
     "output_type": "stream",
     "text": [
      "constructing knowledge graph ...\n",
      "{0: 738790, 1: 718658, 9: 73730, 3: 108278, 7: 100994, 10: 52820, 2: 164128, 5: 164384, 8: 105886, 4: 224732, 6: 30718, 11: 872}\n",
      "total_entity =  182011 entity_neighbor =  2483990 13.64747185609661 entity_neighbor_20 =  0.16961062792908121\n",
      "relation =  0 value =  4.059040387668877\n",
      "relation =  1 value =  3.9484316881946695\n",
      "relation =  9 value =  0.405085406925955\n",
      "relation =  3 value =  0.5948981105537577\n",
      "relation =  7 value =  0.5548785512963502\n",
      "relation =  10 value =  0.2902022405239244\n",
      "relation =  2 value =  0.9017476965677899\n",
      "relation =  5 value =  0.9031542049656339\n",
      "relation =  8 value =  0.5817560477114021\n",
      "relation =  4 value =  1.234716583063661\n",
      "relation =  6 value =  0.1687700193944322\n",
      "relation =  11 value =  0.004790919230156419\n"
     ]
    }
   ],
   "source": [
    "dataset=\"MovieLens-1M\"\n",
    "show_kg_info(dataset)"
   ]
  },
  {
   "cell_type": "code",
   "execution_count": 24,
   "metadata": {},
   "outputs": [
    {
     "name": "stdout",
     "output_type": "stream",
     "text": [
      "constructing knowledge graph ...\n",
      "{0: 1331862, 1: 1332946, 3: 1331862, 4: 213328, 14: 74702, 10: 74852, 7: 213274, 6: 39412, 9: 100856, 13: 100552, 11: 27846, 2: 23400, 5: 80386, 8: 80252, 37: 470, 32: 640, 21: 724, 20: 4788, 15: 4794, 29: 724, 24: 328, 28: 328, 26: 560, 34: 560, 18: 7712, 16: 7760, 22: 5724, 17: 20364, 19: 20124, 12: 9504, 27: 324, 36: 322, 35: 700, 30: 606, 25: 602, 23: 634, 38: 270, 33: 954, 31: 446}\n",
      "total_entity =  113487 entity_neighbor =  5115492 45.075576938327735 entity_neighbor_20 =  0.9586119996122904\n",
      "relation =  0 value =  11.735811150175792\n",
      "relation =  1 value =  11.745362905002334\n",
      "relation =  3 value =  11.735811150175792\n",
      "relation =  4 value =  1.8797571528016426\n",
      "relation =  14 value =  0.6582427943288659\n",
      "relation =  10 value =  0.6595645316203618\n",
      "relation =  7 value =  1.879281327376704\n",
      "relation =  6 value =  0.3472820675495872\n",
      "relation =  9 value =  0.8887009084740983\n",
      "relation =  13 value =  0.8860221875633333\n",
      "relation =  11 value =  0.24536731079330673\n",
      "relation =  2 value =  0.206191017473367\n",
      "relation =  5 value =  0.7083278260946188\n",
      "relation =  8 value =  0.7071470741142157\n",
      "relation =  37 value =  0.004141443513353952\n",
      "relation =  32 value =  0.00563941244371602\n",
      "relation =  21 value =  0.006379585326953748\n",
      "relation =  20 value =  0.04218985434455048\n",
      "relation =  15 value =  0.04224272383621031\n",
      "relation =  29 value =  0.006379585326953748\n",
      "relation =  24 value =  0.0028901988774044604\n",
      "relation =  28 value =  0.0028901988774044604\n",
      "relation =  26 value =  0.004934485888251518\n",
      "relation =  34 value =  0.004934485888251518\n",
      "relation =  18 value =  0.06795491994677805\n",
      "relation =  16 value =  0.06837787588005674\n",
      "relation =  22 value =  0.05043749504348516\n",
      "relation =  17 value =  0.17943905469348911\n",
      "relation =  19 value =  0.1773242750270956\n",
      "relation =  12 value =  0.08374527478918291\n",
      "relation =  27 value =  0.0028549525496312355\n",
      "relation =  36 value =  0.002837329385744623\n",
      "relation =  35 value =  0.006168107360314397\n",
      "relation =  30 value =  0.005339818657643607\n",
      "relation =  25 value =  0.0053045723298703815\n",
      "relation =  23 value =  0.005586542952056183\n",
      "relation =  38 value =  0.0023791271246926963\n",
      "relation =  33 value =  0.008406249173914193\n",
      "relation =  31 value =  0.003929965546714602\n"
     ]
    }
   ],
   "source": [
    "dataset=\"amazon-book_20core\"\n",
    "show_kg_info(dataset)"
   ]
  },
  {
   "cell_type": "code",
   "execution_count": null,
   "metadata": {},
   "outputs": [],
   "source": []
  },
  {
   "cell_type": "code",
   "execution_count": null,
   "metadata": {},
   "outputs": [],
   "source": []
  },
  {
   "cell_type": "code",
   "execution_count": null,
   "metadata": {},
   "outputs": [],
   "source": []
  }
 ],
 "metadata": {
  "kernelspec": {
   "display_name": "Python 3",
   "language": "python",
   "name": "python3"
  },
  "language_info": {
   "codemirror_mode": {
    "name": "ipython",
    "version": 3
   },
   "file_extension": ".py",
   "mimetype": "text/x-python",
   "name": "python",
   "nbconvert_exporter": "python",
   "pygments_lexer": "ipython3",
   "version": "3.6.9"
  }
 },
 "nbformat": 4,
 "nbformat_minor": 2
}
